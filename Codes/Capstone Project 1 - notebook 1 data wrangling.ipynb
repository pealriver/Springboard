{
 "cells": [
  {
   "cell_type": "markdown",
   "metadata": {},
   "source": [
    "# Capstone Project: Churn Analysis"
   ]
  },
  {
   "cell_type": "markdown",
   "metadata": {},
   "source": [
    "\n",
    "# DATA WRANGLING\n",
    "\n"
   ]
  },
  {
   "cell_type": "markdown",
   "metadata": {},
   "source": [
    "# Load data\n",
    "\n",
    "Firstly I load the csv file into pandas dataframe,print out the first 5 rows to explore the dataset, use df.head() to check the column information of the dataset, it seems that column \"TotalCharges\" has wrong data type, it should be float instead of object."
   ]
  },
  {
   "cell_type": "code",
   "execution_count": 2,
   "metadata": {},
   "outputs": [],
   "source": [
    "import pandas as pd\n",
    "import numpy as np\n",
    "import matplotlib.pyplot as plt\n",
    "import seaborn as sns\n",
    "from sklearn.preprocessing import LabelEncoder\n",
    "from sklearn.linear_model import LogisticRegression\n",
    "from sklearn.model_selection import GridSearchCV\n",
    "from sklearn.model_selection import train_test_split\n",
    "import shap\n",
    "from sklearn.metrics import roc_curve\n",
    "from sklearn.metrics import roc_auc_score\n",
    "import pickle"
   ]
  },
  {
   "cell_type": "code",
   "execution_count": 3,
   "metadata": {},
   "outputs": [],
   "source": [
    "# load the csv file into dataframe\n",
    "df=pd.read_csv('C:\\A\\Education\\Data Science\\Capstone project 1\\Dataset 3\\WA_Fn-UseC_-Telco-Customer-Churn.csv')"
   ]
  },
  {
   "cell_type": "code",
   "execution_count": 4,
   "metadata": {},
   "outputs": [
    {
     "name": "stdout",
     "output_type": "stream",
     "text": [
      "   customerID  gender  SeniorCitizen Partner Dependents  tenure PhoneService  \\\n",
      "0  7590-VHVEG  Female              0     Yes         No       1           No   \n",
      "1  5575-GNVDE    Male              0      No         No      34          Yes   \n",
      "2  3668-QPYBK    Male              0      No         No       2          Yes   \n",
      "3  7795-CFOCW    Male              0      No         No      45           No   \n",
      "4  9237-HQITU  Female              0      No         No       2          Yes   \n",
      "\n",
      "      MultipleLines InternetService OnlineSecurity  ... DeviceProtection  \\\n",
      "0  No phone service             DSL             No  ...               No   \n",
      "1                No             DSL            Yes  ...              Yes   \n",
      "2                No             DSL            Yes  ...               No   \n",
      "3  No phone service             DSL            Yes  ...              Yes   \n",
      "4                No     Fiber optic             No  ...               No   \n",
      "\n",
      "  TechSupport StreamingTV StreamingMovies        Contract PaperlessBilling  \\\n",
      "0          No          No              No  Month-to-month              Yes   \n",
      "1          No          No              No        One year               No   \n",
      "2          No          No              No  Month-to-month              Yes   \n",
      "3         Yes          No              No        One year               No   \n",
      "4          No          No              No  Month-to-month              Yes   \n",
      "\n",
      "               PaymentMethod MonthlyCharges  TotalCharges Churn  \n",
      "0           Electronic check          29.85         29.85    No  \n",
      "1               Mailed check          56.95        1889.5    No  \n",
      "2               Mailed check          53.85        108.15   Yes  \n",
      "3  Bank transfer (automatic)          42.30       1840.75    No  \n",
      "4           Electronic check          70.70        151.65   Yes  \n",
      "\n",
      "[5 rows x 21 columns]\n"
     ]
    }
   ],
   "source": [
    "# check the first few lines of the dataset\n",
    "print(df.head())"
   ]
  },
  {
   "cell_type": "code",
   "execution_count": 5,
   "metadata": {},
   "outputs": [
    {
     "name": "stdout",
     "output_type": "stream",
     "text": [
      "<class 'pandas.core.frame.DataFrame'>\n",
      "RangeIndex: 7043 entries, 0 to 7042\n",
      "Data columns (total 21 columns):\n",
      "customerID          7043 non-null object\n",
      "gender              7043 non-null object\n",
      "SeniorCitizen       7043 non-null int64\n",
      "Partner             7043 non-null object\n",
      "Dependents          7043 non-null object\n",
      "tenure              7043 non-null int64\n",
      "PhoneService        7043 non-null object\n",
      "MultipleLines       7043 non-null object\n",
      "InternetService     7043 non-null object\n",
      "OnlineSecurity      7043 non-null object\n",
      "OnlineBackup        7043 non-null object\n",
      "DeviceProtection    7043 non-null object\n",
      "TechSupport         7043 non-null object\n",
      "StreamingTV         7043 non-null object\n",
      "StreamingMovies     7043 non-null object\n",
      "Contract            7043 non-null object\n",
      "PaperlessBilling    7043 non-null object\n",
      "PaymentMethod       7043 non-null object\n",
      "MonthlyCharges      7043 non-null float64\n",
      "TotalCharges        7043 non-null object\n",
      "Churn               7043 non-null object\n",
      "dtypes: float64(1), int64(2), object(18)\n",
      "memory usage: 1.1+ MB\n",
      "None\n"
     ]
    }
   ],
   "source": [
    "#check the information of the dataset\n",
    "print(df.info())"
   ]
  },
  {
   "cell_type": "markdown",
   "metadata": {},
   "source": [
    "# Check missing values and outliers \n",
    "\n",
    "Value count for each column to check whether there is any missing value in each column. For column \"TotalCharges\", there are missing values and the data type is wrong. Hence I change the data type from string to float and fill the missing value with median (it is more representative to use median because the data are right skew instead of bell shape). Other columns are fine."
   ]
  },
  {
   "cell_type": "code",
   "execution_count": 6,
   "metadata": {},
   "outputs": [
    {
     "data": {
      "text/plain": [
       "7665-VIGUD    1\n",
       "6158-DWPZT    1\n",
       "7159-FVYPK    1\n",
       "0343-QLUZP    1\n",
       "3307-TLCUD    1\n",
       "4765-OXPPD    1\n",
       "5356-CSVSQ    1\n",
       "0689-NKYLF    1\n",
       "8454-AATJP    1\n",
       "6615-NGGZJ    1\n",
       "5569-KGJHX    1\n",
       "9250-WYPLL    1\n",
       "7328-OWMOM    1\n",
       "6890-PFRQX    1\n",
       "1194-BHJYC    1\n",
       "3055-VTCGS    1\n",
       "3932-CMDTD    1\n",
       "5193-QLVZB    1\n",
       "4822-LPTYJ    1\n",
       "0533-UCAAU    1\n",
       "5327-XOKKY    1\n",
       "6818-DJXAA    1\n",
       "2439-QKJUL    1\n",
       "7924-GJZFI    1\n",
       "1090-ESELR    1\n",
       "6217-KDYWC    1\n",
       "8434-PNQZX    1\n",
       "3217-FZDMN    1\n",
       "4785-QRJHC    1\n",
       "9643-AVVWI    1\n",
       "             ..\n",
       "1952-DVVSW    1\n",
       "2209-XADXF    1\n",
       "4195-PNGZS    1\n",
       "8020-BWHYL    1\n",
       "3648-GZPHF    1\n",
       "7426-GSWPO    1\n",
       "8242-SOQUO    1\n",
       "9844-FELAJ    1\n",
       "3275-RHRNE    1\n",
       "3134-DSHVC    1\n",
       "0320-JDNQG    1\n",
       "7839-QRKXN    1\n",
       "8849-PRIQJ    1\n",
       "9227-YBAXE    1\n",
       "1399-UBQIU    1\n",
       "3221-CJMSG    1\n",
       "2320-JRSDE    1\n",
       "5553-AOINX    1\n",
       "1910-FMXJM    1\n",
       "6923-AQONU    1\n",
       "2386-LAHRK    1\n",
       "2055-BFOCC    1\n",
       "2309-OSFEU    1\n",
       "6427-FEFIG    1\n",
       "1985-MBRYP    1\n",
       "8433-WPJTV    1\n",
       "9840-DVNDC    1\n",
       "5183-KLYEM    1\n",
       "4026-SKKHW    1\n",
       "2984-AFWNC    1\n",
       "Name: customerID, Length: 7043, dtype: int64"
      ]
     },
     "execution_count": 6,
     "metadata": {},
     "output_type": "execute_result"
    }
   ],
   "source": [
    "#value count the column of \"customerID\", there is no missing vaule\n",
    "df['customerID'].value_counts(dropna=False)"
   ]
  },
  {
   "cell_type": "code",
   "execution_count": 7,
   "metadata": {},
   "outputs": [
    {
     "data": {
      "text/plain": [
       "Male      3555\n",
       "Female    3488\n",
       "Name: gender, dtype: int64"
      ]
     },
     "execution_count": 7,
     "metadata": {},
     "output_type": "execute_result"
    }
   ],
   "source": [
    "# value count the column of 'gender', no missing value.\n",
    "df['gender'].value_counts(dropna=False)"
   ]
  },
  {
   "cell_type": "code",
   "execution_count": 8,
   "metadata": {},
   "outputs": [
    {
     "data": {
      "text/plain": [
       "0    5901\n",
       "1    1142\n",
       "Name: SeniorCitizen, dtype: int64"
      ]
     },
     "execution_count": 8,
     "metadata": {},
     "output_type": "execute_result"
    }
   ],
   "source": [
    "# value check the column of 'SeniorCitizen', no missing value\n",
    "df['SeniorCitizen'].value_counts(dropna=False)"
   ]
  },
  {
   "cell_type": "code",
   "execution_count": 9,
   "metadata": {},
   "outputs": [
    {
     "data": {
      "text/plain": [
       "No     3641\n",
       "Yes    3402\n",
       "Name: Partner, dtype: int64"
      ]
     },
     "execution_count": 9,
     "metadata": {},
     "output_type": "execute_result"
    }
   ],
   "source": [
    "#value check the column of 'Partner', no missing value\n",
    "df['Partner'].value_counts(dropna=False)"
   ]
  },
  {
   "cell_type": "code",
   "execution_count": 10,
   "metadata": {},
   "outputs": [
    {
     "data": {
      "text/plain": [
       "No     4933\n",
       "Yes    2110\n",
       "Name: Dependents, dtype: int64"
      ]
     },
     "execution_count": 10,
     "metadata": {},
     "output_type": "execute_result"
    }
   ],
   "source": [
    "#value check the column of 'Dependents', no missing value\n",
    "df['Dependents'].value_counts(dropna=False)"
   ]
  },
  {
   "cell_type": "code",
   "execution_count": 11,
   "metadata": {},
   "outputs": [
    {
     "data": {
      "text/plain": [
       "1     613\n",
       "72    362\n",
       "2     238\n",
       "3     200\n",
       "4     176\n",
       "71    170\n",
       "5     133\n",
       "7     131\n",
       "8     123\n",
       "70    119\n",
       "9     119\n",
       "12    117\n",
       "10    116\n",
       "6     110\n",
       "13    109\n",
       "68    100\n",
       "15     99\n",
       "11     99\n",
       "67     98\n",
       "18     97\n",
       "69     95\n",
       "24     94\n",
       "22     90\n",
       "66     89\n",
       "35     88\n",
       "17     87\n",
       "23     85\n",
       "64     80\n",
       "56     80\n",
       "16     80\n",
       "     ... \n",
       "20     71\n",
       "62     70\n",
       "41     70\n",
       "53     70\n",
       "32     69\n",
       "54     68\n",
       "47     68\n",
       "50     68\n",
       "51     68\n",
       "58     67\n",
       "49     66\n",
       "43     65\n",
       "42     65\n",
       "31     65\n",
       "34     65\n",
       "37     65\n",
       "57     65\n",
       "55     64\n",
       "40     64\n",
       "48     64\n",
       "33     64\n",
       "21     63\n",
       "45     61\n",
       "59     60\n",
       "38     59\n",
       "28     57\n",
       "39     56\n",
       "44     51\n",
       "36     50\n",
       "0      11\n",
       "Name: tenure, Length: 73, dtype: int64"
      ]
     },
     "execution_count": 11,
     "metadata": {},
     "output_type": "execute_result"
    }
   ],
   "source": [
    "#check the statistics of 'tenure', no outlier\n",
    "df['tenure'].value_counts(dropna=False)"
   ]
  },
  {
   "cell_type": "code",
   "execution_count": 12,
   "metadata": {
    "scrolled": true
   },
   "outputs": [
    {
     "data": {
      "text/plain": [
       "Yes    6361\n",
       "No      682\n",
       "Name: PhoneService, dtype: int64"
      ]
     },
     "execution_count": 12,
     "metadata": {},
     "output_type": "execute_result"
    }
   ],
   "source": [
    "# value count the clolumn of'PhoneService', no missing value\n",
    "df['PhoneService'].value_counts(dropna=False)"
   ]
  },
  {
   "cell_type": "code",
   "execution_count": 13,
   "metadata": {},
   "outputs": [
    {
     "data": {
      "text/plain": [
       "No                  3390\n",
       "Yes                 2971\n",
       "No phone service     682\n",
       "Name: MultipleLines, dtype: int64"
      ]
     },
     "execution_count": 13,
     "metadata": {},
     "output_type": "execute_result"
    }
   ],
   "source": [
    "# value count the column of 'MultipleLines', no missing value\n",
    "df['MultipleLines'].value_counts(dropna=False)"
   ]
  },
  {
   "cell_type": "code",
   "execution_count": 14,
   "metadata": {},
   "outputs": [
    {
     "data": {
      "text/plain": [
       "Fiber optic    3096\n",
       "DSL            2421\n",
       "No             1526\n",
       "Name: InternetService, dtype: int64"
      ]
     },
     "execution_count": 14,
     "metadata": {},
     "output_type": "execute_result"
    }
   ],
   "source": [
    "# value count the column of 'InternetService', no missing value\n",
    "df['InternetService'].value_counts(dropna=False)"
   ]
  },
  {
   "cell_type": "code",
   "execution_count": 15,
   "metadata": {},
   "outputs": [
    {
     "data": {
      "text/plain": [
       "No                     3498\n",
       "Yes                    2019\n",
       "No internet service    1526\n",
       "Name: OnlineSecurity, dtype: int64"
      ]
     },
     "execution_count": 15,
     "metadata": {},
     "output_type": "execute_result"
    }
   ],
   "source": [
    "# value count the column of 'OnlineSecurity', no missing value\n",
    "df['OnlineSecurity'].value_counts(dropna=False)"
   ]
  },
  {
   "cell_type": "code",
   "execution_count": 16,
   "metadata": {},
   "outputs": [
    {
     "data": {
      "text/plain": [
       "No                     3088\n",
       "Yes                    2429\n",
       "No internet service    1526\n",
       "Name: OnlineBackup, dtype: int64"
      ]
     },
     "execution_count": 16,
     "metadata": {},
     "output_type": "execute_result"
    }
   ],
   "source": [
    "# value count the column of 'OnlineBackup', no missing value\n",
    "df['OnlineBackup'].value_counts(dropna=False)"
   ]
  },
  {
   "cell_type": "code",
   "execution_count": 17,
   "metadata": {},
   "outputs": [
    {
     "data": {
      "text/plain": [
       "No                     3095\n",
       "Yes                    2422\n",
       "No internet service    1526\n",
       "Name: DeviceProtection, dtype: int64"
      ]
     },
     "execution_count": 17,
     "metadata": {},
     "output_type": "execute_result"
    }
   ],
   "source": [
    "# value count the column of 'DeviceProtection', no missing value\n",
    "df['DeviceProtection'].value_counts(dropna=False)"
   ]
  },
  {
   "cell_type": "code",
   "execution_count": 18,
   "metadata": {},
   "outputs": [
    {
     "data": {
      "text/plain": [
       "No                     3473\n",
       "Yes                    2044\n",
       "No internet service    1526\n",
       "Name: TechSupport, dtype: int64"
      ]
     },
     "execution_count": 18,
     "metadata": {},
     "output_type": "execute_result"
    }
   ],
   "source": [
    "# value count the column of 'TechSupport', no missing value\n",
    "df['TechSupport'].value_counts(dropna=False)"
   ]
  },
  {
   "cell_type": "code",
   "execution_count": 19,
   "metadata": {},
   "outputs": [
    {
     "data": {
      "text/plain": [
       "No                     2810\n",
       "Yes                    2707\n",
       "No internet service    1526\n",
       "Name: StreamingTV, dtype: int64"
      ]
     },
     "execution_count": 19,
     "metadata": {},
     "output_type": "execute_result"
    }
   ],
   "source": [
    "# value count the column of 'StreamingTV', no missing value\n",
    "df['StreamingTV'].value_counts(dropna=False)"
   ]
  },
  {
   "cell_type": "code",
   "execution_count": 20,
   "metadata": {},
   "outputs": [
    {
     "data": {
      "text/plain": [
       "No                     2785\n",
       "Yes                    2732\n",
       "No internet service    1526\n",
       "Name: StreamingMovies, dtype: int64"
      ]
     },
     "execution_count": 20,
     "metadata": {},
     "output_type": "execute_result"
    }
   ],
   "source": [
    "# value count the column of 'StreamingMovies', no missing value\n",
    "df['StreamingMovies'].value_counts(dropna=False)"
   ]
  },
  {
   "cell_type": "code",
   "execution_count": 21,
   "metadata": {},
   "outputs": [
    {
     "data": {
      "text/plain": [
       "Month-to-month    3875\n",
       "Two year          1695\n",
       "One year          1473\n",
       "Name: Contract, dtype: int64"
      ]
     },
     "execution_count": 21,
     "metadata": {},
     "output_type": "execute_result"
    }
   ],
   "source": [
    "# value count the column of 'Contract', no missing value\n",
    "df['Contract'].value_counts(dropna=False)"
   ]
  },
  {
   "cell_type": "code",
   "execution_count": 22,
   "metadata": {},
   "outputs": [
    {
     "data": {
      "text/plain": [
       "Yes    4171\n",
       "No     2872\n",
       "Name: PaperlessBilling, dtype: int64"
      ]
     },
     "execution_count": 22,
     "metadata": {},
     "output_type": "execute_result"
    }
   ],
   "source": [
    "# value count the column of 'PaperlessBilling', no missing value\n",
    "df['PaperlessBilling'].value_counts(dropna=False)"
   ]
  },
  {
   "cell_type": "code",
   "execution_count": 23,
   "metadata": {},
   "outputs": [
    {
     "data": {
      "text/plain": [
       "Electronic check             2365\n",
       "Mailed check                 1612\n",
       "Bank transfer (automatic)    1544\n",
       "Credit card (automatic)      1522\n",
       "Name: PaymentMethod, dtype: int64"
      ]
     },
     "execution_count": 23,
     "metadata": {},
     "output_type": "execute_result"
    }
   ],
   "source": [
    "# value count the column of 'PaymentMethod', no missing value\n",
    "df['PaymentMethod'].value_counts(dropna=False)"
   ]
  },
  {
   "cell_type": "code",
   "execution_count": 24,
   "metadata": {},
   "outputs": [
    {
     "data": {
      "text/plain": [
       "20.05     61\n",
       "19.85     45\n",
       "19.95     44\n",
       "19.90     44\n",
       "20.00     43\n",
       "19.70     43\n",
       "19.65     43\n",
       "19.55     40\n",
       "20.15     40\n",
       "19.75     39\n",
       "20.25     39\n",
       "20.35     38\n",
       "19.80     38\n",
       "19.60     37\n",
       "20.10     37\n",
       "20.20     35\n",
       "19.50     32\n",
       "19.40     31\n",
       "20.45     31\n",
       "20.40     30\n",
       "19.45     28\n",
       "20.50     28\n",
       "20.30     28\n",
       "20.55     27\n",
       "19.35     25\n",
       "19.30     24\n",
       "20.65     23\n",
       "25.25     20\n",
       "25.10     19\n",
       "19.25     18\n",
       "          ..\n",
       "67.50      1\n",
       "33.50      1\n",
       "48.15      1\n",
       "31.10      1\n",
       "39.95      1\n",
       "81.65      1\n",
       "117.45     1\n",
       "107.00     1\n",
       "66.35      1\n",
       "62.30      1\n",
       "112.60     1\n",
       "110.70     1\n",
       "28.60      1\n",
       "108.60     1\n",
       "73.10      1\n",
       "39.55      1\n",
       "53.70      1\n",
       "21.30      1\n",
       "18.40      1\n",
       "67.60      1\n",
       "33.75      1\n",
       "29.40      1\n",
       "57.80      1\n",
       "34.55      1\n",
       "107.65     1\n",
       "114.75     1\n",
       "103.60     1\n",
       "113.40     1\n",
       "57.65      1\n",
       "113.30     1\n",
       "Name: MonthlyCharges, Length: 1585, dtype: int64"
      ]
     },
     "execution_count": 24,
     "metadata": {},
     "output_type": "execute_result"
    }
   ],
   "source": [
    "# value count the column of 'PaymentMethod', no missing value\n",
    "df['MonthlyCharges'].value_counts(dropna=False)"
   ]
  },
  {
   "cell_type": "code",
   "execution_count": 26,
   "metadata": {},
   "outputs": [
    {
     "data": {
      "text/plain": [
       "20.2       11\n",
       "           11\n",
       "19.75       9\n",
       "19.9        8\n",
       "19.65       8\n",
       "20.05       8\n",
       "45.3        7\n",
       "19.55       7\n",
       "20.25       6\n",
       "19.45       6\n",
       "20.15       6\n",
       "20.45       5\n",
       "20.3        5\n",
       "69.95       4\n",
       "19.5        4\n",
       "69.6        4\n",
       "19.95       4\n",
       "74.7        4\n",
       "20.5        4\n",
       "20.4        4\n",
       "19.3        4\n",
       "44.4        4\n",
       "75.3        4\n",
       "19.85       4\n",
       "20.35       4\n",
       "44          4\n",
       "19.4        4\n",
       "70.6        4\n",
       "19.2        4\n",
       "69.65       4\n",
       "           ..\n",
       "278.85      1\n",
       "937.6       1\n",
       "617.35      1\n",
       "36.55       1\n",
       "76          1\n",
       "3635.15     1\n",
       "2088.8      1\n",
       "492.55      1\n",
       "1802.55     1\n",
       "657.5       1\n",
       "1268.85     1\n",
       "679.8       1\n",
       "930.9       1\n",
       "851.75      1\n",
       "231.45      1\n",
       "1375.15     1\n",
       "1082.75     1\n",
       "1952.8      1\n",
       "3251.3      1\n",
       "4847.35     1\n",
       "613.4       1\n",
       "1117.55     1\n",
       "6017.65     1\n",
       "4009.2      1\n",
       "7030.65     1\n",
       "1023.9      1\n",
       "7839.85     1\n",
       "3001.2      1\n",
       "2852.4      1\n",
       "6375.2      1\n",
       "Name: TotalCharges, Length: 6531, dtype: int64"
      ]
     },
     "execution_count": 26,
     "metadata": {},
     "output_type": "execute_result"
    }
   ],
   "source": [
    "#value count the column of 'TotalCharges', there are 11 missing values and the data type has to be changed from 'string' to float\n",
    "df['TotalCharges'].value_counts(dropna=False)"
   ]
  },
  {
   "cell_type": "code",
   "execution_count": 27,
   "metadata": {},
   "outputs": [],
   "source": [
    "# change TotalCharges data type from string to float\n",
    "df['TotalCharges']=pd.to_numeric(df['TotalCharges'], errors='coerce')"
   ]
  },
  {
   "cell_type": "code",
   "execution_count": 28,
   "metadata": {},
   "outputs": [
    {
     "data": {
      "text/plain": [
       "NaN        11\n",
       "20.20      11\n",
       "19.75       9\n",
       "19.90       8\n",
       "19.65       8\n",
       "20.05       8\n",
       "19.55       7\n",
       "45.30       7\n",
       "19.45       6\n",
       "20.15       6\n",
       "20.25       6\n",
       "20.30       5\n",
       "20.45       5\n",
       "20.35       4\n",
       "50.15       4\n",
       "69.90       4\n",
       "69.95       4\n",
       "19.30       4\n",
       "19.95       4\n",
       "70.60       4\n",
       "74.70       4\n",
       "69.60       4\n",
       "44.00       4\n",
       "19.50       4\n",
       "44.40       4\n",
       "19.20       4\n",
       "69.65       4\n",
       "20.40       4\n",
       "49.90       4\n",
       "75.30       4\n",
       "           ..\n",
       "1971.15     1\n",
       "1793.25     1\n",
       "1212.85     1\n",
       "1504.05     1\n",
       "1319.95     1\n",
       "572.20      1\n",
       "5958.85     1\n",
       "1673.80     1\n",
       "958.15      1\n",
       "7610.10     1\n",
       "92.05       1\n",
       "2666.75     1\n",
       "1001.50     1\n",
       "7262.00     1\n",
       "4740.00     1\n",
       "96.45       1\n",
       "4483.95     1\n",
       "5574.75     1\n",
       "44.65       1\n",
       "2688.45     1\n",
       "1374.35     1\n",
       "3107.30     1\n",
       "248.95      1\n",
       "607.30      1\n",
       "1534.05     1\n",
       "1066.15     1\n",
       "249.95      1\n",
       "8333.95     1\n",
       "7171.70     1\n",
       "1024.00     1\n",
       "Name: TotalCharges, Length: 6531, dtype: int64"
      ]
     },
     "execution_count": 28,
     "metadata": {},
     "output_type": "execute_result"
    }
   ],
   "source": [
    "# confirm that the data type has been changed\n",
    "df['TotalCharges'].value_counts(dropna=False)"
   ]
  },
  {
   "cell_type": "code",
   "execution_count": 75,
   "metadata": {},
   "outputs": [
    {
     "data": {
      "image/png": "[encoded data removed]",
      "text/plain": [
       "<Figure size 432x288 with 1 Axes>"
      ]
     },
     "metadata": {
      "needs_background": "light"
     },
     "output_type": "display_data"
    }
   ],
   "source": [
    "# plot histogram for the column of TotalCharges, it's right skew.\n",
    "_=plt.hist(df['TotalCharges'])"
   ]
  },
  {
   "cell_type": "code",
   "execution_count": 29,
   "metadata": {},
   "outputs": [],
   "source": [
    "# fill up missing values with the mediam of the column\n",
    "Totalcharge_median=df['TotalCharges'].median()\n",
    "df['TotalCharges']=df.TotalCharges.fillna(Totalcharge_median)"
   ]
  },
  {
   "cell_type": "code",
   "execution_count": 30,
   "metadata": {},
   "outputs": [
    {
     "data": {
      "text/plain": [
       "1397.475    11\n",
       "20.200      11\n",
       "19.750       9\n",
       "19.650       8\n",
       "20.050       8\n",
       "19.900       8\n",
       "19.550       7\n",
       "45.300       7\n",
       "19.450       6\n",
       "20.150       6\n",
       "20.250       6\n",
       "20.450       5\n",
       "20.300       5\n",
       "19.950       4\n",
       "19.850       4\n",
       "19.500       4\n",
       "20.400       4\n",
       "20.350       4\n",
       "20.500       4\n",
       "44.400       4\n",
       "69.650       4\n",
       "19.200       4\n",
       "69.950       4\n",
       "70.600       4\n",
       "69.900       4\n",
       "69.600       4\n",
       "44.000       4\n",
       "50.150       4\n",
       "49.900       4\n",
       "19.400       4\n",
       "            ..\n",
       "914.300      1\n",
       "7382.250     1\n",
       "1971.150     1\n",
       "1793.250     1\n",
       "1212.850     1\n",
       "1673.800     1\n",
       "2688.450     1\n",
       "7171.700     1\n",
       "4483.950     1\n",
       "4166.350     1\n",
       "1968.100     1\n",
       "7610.100     1\n",
       "92.050       1\n",
       "2666.750     1\n",
       "1001.500     1\n",
       "7262.000     1\n",
       "4740.000     1\n",
       "96.450       1\n",
       "5574.750     1\n",
       "8333.950     1\n",
       "958.150      1\n",
       "44.650       1\n",
       "1374.350     1\n",
       "3107.300     1\n",
       "248.950      1\n",
       "607.300      1\n",
       "1534.050     1\n",
       "1066.150     1\n",
       "249.950      1\n",
       "1024.000     1\n",
       "Name: TotalCharges, Length: 6531, dtype: int64"
      ]
     },
     "execution_count": 30,
     "metadata": {},
     "output_type": "execute_result"
    }
   ],
   "source": [
    "df['TotalCharges'].value_counts(dropna=False)"
   ]
  },
  {
   "cell_type": "code",
   "execution_count": 32,
   "metadata": {},
   "outputs": [
    {
     "data": {
      "text/plain": [
       "No     5174\n",
       "Yes    1869\n",
       "Name: Churn, dtype: int64"
      ]
     },
     "execution_count": 32,
     "metadata": {},
     "output_type": "execute_result"
    }
   ],
   "source": [
    "# value count the column of 'Churn', no missing value\n",
    "df['Churn'].value_counts(dropna=False)"
   ]
  },
  {
   "cell_type": "markdown",
   "metadata": {},
   "source": [
    "# Convert categorical data to numeric data\n",
    "\n",
    "To perform analysis, I need to convert categorical features into numeric. Use LabelEncoder to convert the features that have two values. Use pd.get_dummies to convert the features that have more than two values, consequently one column will become mutiple columns, drop the original column and one of the new columns for analysis purpose and rename the columns. "
   ]
  },
  {
   "cell_type": "code",
   "execution_count": 33,
   "metadata": {},
   "outputs": [],
   "source": [
    "#label the column of 'gender' as 0 (female) and 1 (male)\n",
    "df['gender']=LabelEncoder().fit_transform(df['gender'])"
   ]
  },
  {
   "cell_type": "code",
   "execution_count": 34,
   "metadata": {},
   "outputs": [],
   "source": [
    "#label the column of 'Partner' as 1 (yes) and 0 (no)\n",
    "df['Partner']=LabelEncoder().fit_transform(df['Partner'])"
   ]
  },
  {
   "cell_type": "code",
   "execution_count": 35,
   "metadata": {},
   "outputs": [],
   "source": [
    "#label the column of 'PaperlessBilling' as 1 (yes) and 0 (no)\n",
    "df['PaperlessBilling']=LabelEncoder().fit_transform(df['PaperlessBilling'])"
   ]
  },
  {
   "cell_type": "code",
   "execution_count": 36,
   "metadata": {},
   "outputs": [],
   "source": [
    "#label the column of 'Dependents' as 1 (yes) and 0 (no)\n",
    "df['Dependents']=LabelEncoder().fit_transform(df['Dependents'])"
   ]
  },
  {
   "cell_type": "code",
   "execution_count": 37,
   "metadata": {},
   "outputs": [],
   "source": [
    "#label the column of 'PhoneService' as 1 (yes) and 0 (no)\n",
    "df['PhoneService']=LabelEncoder().fit_transform(df['PhoneService'])"
   ]
  },
  {
   "cell_type": "code",
   "execution_count": 38,
   "metadata": {},
   "outputs": [],
   "source": [
    "#label the column of 'Churn' as 1 (yes) and 0 (no)\n",
    "df['Churn']=LabelEncoder().fit_transform(df['Churn'])"
   ]
  },
  {
   "cell_type": "code",
   "execution_count": 39,
   "metadata": {},
   "outputs": [],
   "source": [
    "# create dummy valuables for the column of gender, rename the columns and drop and first and original cplomns\n",
    "multiplelines_dummies = pd.get_dummies(df['MultipleLines'],drop_first=True).rename(columns=lambda x: 'MultipleLines_' + str(x))\n",
    "# bring the dummies back into the original dataset\n",
    "df = pd.concat([df, multiplelines_dummies], axis=1)\n",
    "# drop the orginal gender column\n",
    "df=df.drop(columns='MultipleLines')"
   ]
  },
  {
   "cell_type": "code",
   "execution_count": 40,
   "metadata": {},
   "outputs": [],
   "source": [
    "# create dummy valuables for the column of InternetService, rename the columns and drop the first and original column\n",
    "InternetService_dummies = pd.get_dummies(df['InternetService'],drop_first=True).rename(columns=lambda x: 'InternetService_' + str(x))\n",
    "df = pd.concat([df, InternetService_dummies], axis=1)\n",
    "df=df.drop(columns='InternetService')"
   ]
  },
  {
   "cell_type": "code",
   "execution_count": 41,
   "metadata": {},
   "outputs": [],
   "source": [
    "# create dummy valuables for the column of OnlineSecurity, rename the columns and drop the first and original column\n",
    "OnlineSecurity_dummies = pd.get_dummies(df['OnlineSecurity'],drop_first=True).rename(columns=lambda x: 'OnlineSecurity_' + str(x))\n",
    "df = pd.concat([df, OnlineSecurity_dummies], axis=1)\n",
    "df=df.drop(columns='OnlineSecurity')"
   ]
  },
  {
   "cell_type": "code",
   "execution_count": 42,
   "metadata": {},
   "outputs": [],
   "source": [
    "# create dummy valuables for the column of OnlineBackup, rename the columns and drop the first original column\n",
    "OnlineBackup_dummies = pd.get_dummies(df['OnlineBackup'],drop_first=True).rename(columns=lambda x: 'OnlineBackup_' + str(x))\n",
    "df = pd.concat([df, OnlineBackup_dummies], axis=1)\n",
    "df=df.drop(columns='OnlineBackup')"
   ]
  },
  {
   "cell_type": "code",
   "execution_count": 43,
   "metadata": {},
   "outputs": [],
   "source": [
    "# create dummy valuables for the column of DeviceProtection, rename the columns and drop the first and original column\n",
    "DeviceProtection_dummies = pd.get_dummies(df['DeviceProtection'],drop_first=True).rename(columns=lambda x: 'DeviceProtection_' + str(x))\n",
    "df = pd.concat([df, DeviceProtection_dummies], axis=1)\n",
    "df=df.drop(columns='DeviceProtection')"
   ]
  },
  {
   "cell_type": "code",
   "execution_count": 44,
   "metadata": {},
   "outputs": [],
   "source": [
    "# create dummy valuables for the column of TechSupport, rename the columns and drop the first and original column\n",
    "TechSupport_dummies = pd.get_dummies(df['TechSupport'],drop_first=True).rename(columns=lambda x: 'TechSupport_' + str(x))\n",
    "df = pd.concat([df, TechSupport_dummies], axis=1)\n",
    "df=df.drop(columns=['TechSupport'], axis=1)"
   ]
  },
  {
   "cell_type": "code",
   "execution_count": 45,
   "metadata": {},
   "outputs": [],
   "source": [
    "# create dummy valuables for the column of StreamingTV, rename the columns and drop the first and original column\n",
    "StreamingTV_dummies = pd.get_dummies(df['StreamingTV'],drop_first=True).rename(columns=lambda x: 'StreamingTV_' + str(x))\n",
    "df = pd.concat([df, StreamingTV_dummies], axis=1)\n",
    "df=df.drop(columns=['StreamingTV'], axis=1)"
   ]
  },
  {
   "cell_type": "code",
   "execution_count": 46,
   "metadata": {},
   "outputs": [],
   "source": [
    "# create dummy valuables for the column of StreamingMovies, rename the columns and drop the first original column\n",
    "StreamingMovies_dummies = pd.get_dummies(df['StreamingMovies'],drop_first=True).rename(columns=lambda x: 'StreamingMovies_' + str(x))\n",
    "df = pd.concat([df, StreamingMovies_dummies], axis=1)\n",
    "df=df.drop(columns=['StreamingMovies'], axis=1)"
   ]
  },
  {
   "cell_type": "code",
   "execution_count": 47,
   "metadata": {},
   "outputs": [],
   "source": [
    "# create dummy valuables for the column of Contract, rename the columns and drop the first and original column\n",
    "Contract_dummies = pd.get_dummies(df['Contract'],drop_first=True).rename(columns=lambda x: 'Contract_' + str(x))\n",
    "df = pd.concat([df, Contract_dummies], axis=1)\n",
    "df=df.drop(columns=['Contract'], axis=1)"
   ]
  },
  {
   "cell_type": "code",
   "execution_count": 48,
   "metadata": {},
   "outputs": [],
   "source": [
    "# create dummy valuables for the column of PaymentMethod, rename the columns and drop the first and original column\n",
    "PaymentMethod_dummies = pd.get_dummies(df['PaymentMethod'],drop_first=True).rename(columns=lambda x: 'PaymentMethod_' + str(x))\n",
    "df = pd.concat([df, PaymentMethod_dummies], axis=1)\n",
    "df=df.drop(columns=['PaymentMethod',], axis=1)"
   ]
  },
  {
   "cell_type": "markdown",
   "metadata": {},
   "source": [
    "# Re-confirm the data and pickle it\n",
    "\n",
    "Re-check the information of the dataframe, pickle the dataframe for next stage analysis."
   ]
  },
  {
   "cell_type": "code",
   "execution_count": 49,
   "metadata": {
    "scrolled": false
   },
   "outputs": [
    {
     "name": "stdout",
     "output_type": "stream",
     "text": [
      "<class 'pandas.core.frame.DataFrame'>\n",
      "RangeIndex: 7043 entries, 0 to 7042\n",
      "Data columns (total 32 columns):\n",
      "customerID                               7043 non-null object\n",
      "gender                                   7043 non-null int32\n",
      "SeniorCitizen                            7043 non-null int64\n",
      "Partner                                  7043 non-null int32\n",
      "Dependents                               7043 non-null int32\n",
      "tenure                                   7043 non-null int64\n",
      "PhoneService                             7043 non-null int32\n",
      "PaperlessBilling                         7043 non-null int32\n",
      "MonthlyCharges                           7043 non-null float64\n",
      "TotalCharges                             7043 non-null float64\n",
      "Churn                                    7043 non-null int32\n",
      "MultipleLines_No phone service           7043 non-null uint8\n",
      "MultipleLines_Yes                        7043 non-null uint8\n",
      "InternetService_Fiber optic              7043 non-null uint8\n",
      "InternetService_No                       7043 non-null uint8\n",
      "OnlineSecurity_No internet service       7043 non-null uint8\n",
      "OnlineSecurity_Yes                       7043 non-null uint8\n",
      "OnlineBackup_No internet service         7043 non-null uint8\n",
      "OnlineBackup_Yes                         7043 non-null uint8\n",
      "DeviceProtection_No internet service     7043 non-null uint8\n",
      "DeviceProtection_Yes                     7043 non-null uint8\n",
      "TechSupport_No internet service          7043 non-null uint8\n",
      "TechSupport_Yes                          7043 non-null uint8\n",
      "StreamingTV_No internet service          7043 non-null uint8\n",
      "StreamingTV_Yes                          7043 non-null uint8\n",
      "StreamingMovies_No internet service      7043 non-null uint8\n",
      "StreamingMovies_Yes                      7043 non-null uint8\n",
      "Contract_One year                        7043 non-null uint8\n",
      "Contract_Two year                        7043 non-null uint8\n",
      "PaymentMethod_Credit card (automatic)    7043 non-null uint8\n",
      "PaymentMethod_Electronic check           7043 non-null uint8\n",
      "PaymentMethod_Mailed check               7043 non-null uint8\n",
      "dtypes: float64(2), int32(6), int64(2), object(1), uint8(21)\n",
      "memory usage: 584.7+ KB\n"
     ]
    }
   ],
   "source": [
    "df.info()"
   ]
  },
  {
   "cell_type": "code",
   "execution_count": 77,
   "metadata": {},
   "outputs": [],
   "source": [
    "# pickle the dataframe for data exploring\n",
    "outfile = open('C:\\A\\Education\\Data Science\\Capstone project 1\\data_wrangling','wb')\n",
    "pickle.dump(df,outfile)\n",
    "outfile.close()"
   ]
  }
 ],
 "metadata": {
  "kernelspec": {
   "display_name": "Python 3",
   "language": "python",
   "name": "python3"
  },
  "language_info": {
   "codemirror_mode": {
    "name": "ipython",
    "version": 3
   },
   "file_extension": ".py",
   "mimetype": "text/x-python",
   "name": "python",
   "nbconvert_exporter": "python",
   "pygments_lexer": "ipython3",
   "version": "3.7.3"
  }
 },
 "nbformat": 4,
 "nbformat_minor": 2
}
