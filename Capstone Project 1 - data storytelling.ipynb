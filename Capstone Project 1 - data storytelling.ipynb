{
 "cells": [
  {
   "cell_type": "code",
   "execution_count": 158,
   "metadata": {},
   "outputs": [],
   "source": [
    "import pandas as pd"
   ]
  },
  {
   "cell_type": "code",
   "execution_count": 159,
   "metadata": {},
   "outputs": [],
   "source": [
    "# load the csv file into dataframe\n",
    "df=pd.read_csv('C:\\A\\Education\\Data Science\\Capstone project 1\\Dataset 3\\WA_Fn-UseC_-Telco-Customer-Churn.csv')"
   ]
  },
  {
   "cell_type": "code",
   "execution_count": 160,
   "metadata": {},
   "outputs": [
    {
     "name": "stdout",
     "output_type": "stream",
     "text": [
      "   customerID  gender  SeniorCitizen Partner Dependents  tenure PhoneService  \\\n",
      "0  7590-VHVEG  Female              0     Yes         No       1           No   \n",
      "1  5575-GNVDE    Male              0      No         No      34          Yes   \n",
      "2  3668-QPYBK    Male              0      No         No       2          Yes   \n",
      "3  7795-CFOCW    Male              0      No         No      45           No   \n",
      "4  9237-HQITU  Female              0      No         No       2          Yes   \n",
      "\n",
      "      MultipleLines InternetService OnlineSecurity  ... DeviceProtection  \\\n",
      "0  No phone service             DSL             No  ...               No   \n",
      "1                No             DSL            Yes  ...              Yes   \n",
      "2                No             DSL            Yes  ...               No   \n",
      "3  No phone service             DSL            Yes  ...              Yes   \n",
      "4                No     Fiber optic             No  ...               No   \n",
      "\n",
      "  TechSupport StreamingTV StreamingMovies        Contract PaperlessBilling  \\\n",
      "0          No          No              No  Month-to-month              Yes   \n",
      "1          No          No              No        One year               No   \n",
      "2          No          No              No  Month-to-month              Yes   \n",
      "3         Yes          No              No        One year               No   \n",
      "4          No          No              No  Month-to-month              Yes   \n",
      "\n",
      "               PaymentMethod MonthlyCharges  TotalCharges Churn  \n",
      "0           Electronic check          29.85         29.85    No  \n",
      "1               Mailed check          56.95        1889.5    No  \n",
      "2               Mailed check          53.85        108.15   Yes  \n",
      "3  Bank transfer (automatic)          42.30       1840.75    No  \n",
      "4           Electronic check          70.70        151.65   Yes  \n",
      "\n",
      "[5 rows x 21 columns]\n"
     ]
    }
   ],
   "source": [
    "# check the first few lines of the dataset\n",
    "print(df.head())"
   ]
  },
  {
   "cell_type": "code",
   "execution_count": 161,
   "metadata": {},
   "outputs": [
    {
     "name": "stdout",
     "output_type": "stream",
     "text": [
      "<class 'pandas.core.frame.DataFrame'>\n",
      "RangeIndex: 7043 entries, 0 to 7042\n",
      "Data columns (total 21 columns):\n",
      "customerID          7043 non-null object\n",
      "gender              7043 non-null object\n",
      "SeniorCitizen       7043 non-null int64\n",
      "Partner             7043 non-null object\n",
      "Dependents          7043 non-null object\n",
      "tenure              7043 non-null int64\n",
      "PhoneService        7043 non-null object\n",
      "MultipleLines       7043 non-null object\n",
      "InternetService     7043 non-null object\n",
      "OnlineSecurity      7043 non-null object\n",
      "OnlineBackup        7043 non-null object\n",
      "DeviceProtection    7043 non-null object\n",
      "TechSupport         7043 non-null object\n",
      "StreamingTV         7043 non-null object\n",
      "StreamingMovies     7043 non-null object\n",
      "Contract            7043 non-null object\n",
      "PaperlessBilling    7043 non-null object\n",
      "PaymentMethod       7043 non-null object\n",
      "MonthlyCharges      7043 non-null float64\n",
      "TotalCharges        7043 non-null object\n",
      "Churn               7043 non-null object\n",
      "dtypes: float64(1), int64(2), object(18)\n",
      "memory usage: 1.1+ MB\n",
      "None\n"
     ]
    }
   ],
   "source": [
    "#check the information of the dataset\n",
    "print(df.info())"
   ]
  },
  {
   "cell_type": "code",
   "execution_count": 162,
   "metadata": {},
   "outputs": [
    {
     "data": {
      "text/plain": [
       "6333-YDVLT    1\n",
       "9885-AIBVB    1\n",
       "5150-ITWWB    1\n",
       "2034-CGRHZ    1\n",
       "4065-JJAVA    1\n",
       "9711-FJTBX    1\n",
       "0067-DKWBL    1\n",
       "9626-VFRGG    1\n",
       "5639-NTUPK    1\n",
       "1840-BIUOG    1\n",
       "4626-GYCZP    1\n",
       "0887-HJGAR    1\n",
       "5376-PCKNB    1\n",
       "2192-OZITF    1\n",
       "4134-BSXLX    1\n",
       "4190-MFLUW    1\n",
       "5076-YVXCM    1\n",
       "8990-YOZLV    1\n",
       "4634-JLRJT    1\n",
       "9861-PDSZP    1\n",
       "8375-KVTHK    1\n",
       "1543-LLLFT    1\n",
       "4831-EOBFE    1\n",
       "3338-CVVEH    1\n",
       "5846-NEQVZ    1\n",
       "6210-KBBPI    1\n",
       "4250-WAROZ    1\n",
       "7156-MXBJE    1\n",
       "2690-DVRVK    1\n",
       "2402-TAIRZ    1\n",
       "             ..\n",
       "1298-PHBTI    1\n",
       "9853-JFZDU    1\n",
       "3347-YJZZE    1\n",
       "4072-IPYLT    1\n",
       "9084-OAYKL    1\n",
       "0471-LVHGK    1\n",
       "9239-GZHZE    1\n",
       "9667-EQRXU    1\n",
       "8749-JMNKX    1\n",
       "4648-YPBTM    1\n",
       "5671-UUNXD    1\n",
       "9274-CNFMO    1\n",
       "0402-CQAJN    1\n",
       "4791-QRGMF    1\n",
       "6701-YVNQG    1\n",
       "3588-WSTTJ    1\n",
       "5392-AKEMH    1\n",
       "1545-ACTAS    1\n",
       "8591-TKMZH    1\n",
       "9371-BITHB    1\n",
       "2108-YKQTY    1\n",
       "9447-YPTBX    1\n",
       "3948-KXDUF    1\n",
       "4480-QQRHC    1\n",
       "5696-JVVQY    1\n",
       "8023-QHAIO    1\n",
       "3039-MJSLN    1\n",
       "3597-MVHJT    1\n",
       "7191-ADRGF    1\n",
       "3649-JPUGY    1\n",
       "Name: customerID, Length: 7043, dtype: int64"
      ]
     },
     "execution_count": 162,
     "metadata": {},
     "output_type": "execute_result"
    }
   ],
   "source": [
    "#value count the column of \"customerID\", there is no missing vaule\n",
    "df['customerID'].value_counts(dropna=False)"
   ]
  },
  {
   "cell_type": "code",
   "execution_count": 163,
   "metadata": {},
   "outputs": [
    {
     "data": {
      "text/plain": [
       "Male      3555\n",
       "Female    3488\n",
       "Name: gender, dtype: int64"
      ]
     },
     "execution_count": 163,
     "metadata": {},
     "output_type": "execute_result"
    }
   ],
   "source": [
    "# value count the column of 'gender', no missing value.\n",
    "df['gender'].value_counts(dropna=False)"
   ]
  },
  {
   "cell_type": "code",
   "execution_count": 164,
   "metadata": {},
   "outputs": [
    {
     "data": {
      "text/plain": [
       "0    5901\n",
       "1    1142\n",
       "Name: SeniorCitizen, dtype: int64"
      ]
     },
     "execution_count": 164,
     "metadata": {},
     "output_type": "execute_result"
    }
   ],
   "source": [
    "# value check the column of 'SeniorCitizen', no missing value\n",
    "df['SeniorCitizen'].value_counts(dropna=False)"
   ]
  },
  {
   "cell_type": "code",
   "execution_count": 165,
   "metadata": {},
   "outputs": [
    {
     "data": {
      "text/plain": [
       "No     3641\n",
       "Yes    3402\n",
       "Name: Partner, dtype: int64"
      ]
     },
     "execution_count": 165,
     "metadata": {},
     "output_type": "execute_result"
    }
   ],
   "source": [
    "#value check the column of 'Partner', no missing value\n",
    "df['Partner'].value_counts(dropna=False)"
   ]
  },
  {
   "cell_type": "code",
   "execution_count": 166,
   "metadata": {},
   "outputs": [
    {
     "data": {
      "text/plain": [
       "No     4933\n",
       "Yes    2110\n",
       "Name: Dependents, dtype: int64"
      ]
     },
     "execution_count": 166,
     "metadata": {},
     "output_type": "execute_result"
    }
   ],
   "source": [
    "#value check the column of 'Dependents', no missing value\n",
    "df['Dependents'].value_counts(dropna=False)"
   ]
  },
  {
   "cell_type": "code",
   "execution_count": 167,
   "metadata": {},
   "outputs": [
    {
     "data": {
      "text/plain": [
       "count    7043.000000\n",
       "mean       32.371149\n",
       "std        24.559481\n",
       "min         0.000000\n",
       "25%         9.000000\n",
       "50%        29.000000\n",
       "75%        55.000000\n",
       "max        72.000000\n",
       "Name: tenure, dtype: float64"
      ]
     },
     "execution_count": 167,
     "metadata": {},
     "output_type": "execute_result"
    }
   ],
   "source": [
    "#check the statistics of 'tenure', no outlier\n",
    "df['tenure'].describe()"
   ]
  },
  {
   "cell_type": "code",
   "execution_count": 168,
   "metadata": {
    "scrolled": true
   },
   "outputs": [
    {
     "data": {
      "text/plain": [
       "Yes    6361\n",
       "No      682\n",
       "Name: PhoneService, dtype: int64"
      ]
     },
     "execution_count": 168,
     "metadata": {},
     "output_type": "execute_result"
    }
   ],
   "source": [
    "# value count the clolumn of'PhoneService', no missing value\n",
    "df['PhoneService'].value_counts(dropna=False)"
   ]
  },
  {
   "cell_type": "code",
   "execution_count": 169,
   "metadata": {},
   "outputs": [
    {
     "data": {
      "text/plain": [
       "No                  3390\n",
       "Yes                 2971\n",
       "No phone service     682\n",
       "Name: MultipleLines, dtype: int64"
      ]
     },
     "execution_count": 169,
     "metadata": {},
     "output_type": "execute_result"
    }
   ],
   "source": [
    "# value count the column of 'MultipleLines', no missing value\n",
    "df['MultipleLines'].value_counts(dropna=False)"
   ]
  },
  {
   "cell_type": "code",
   "execution_count": 170,
   "metadata": {},
   "outputs": [
    {
     "data": {
      "text/plain": [
       "Fiber optic    3096\n",
       "DSL            2421\n",
       "No             1526\n",
       "Name: InternetService, dtype: int64"
      ]
     },
     "execution_count": 170,
     "metadata": {},
     "output_type": "execute_result"
    }
   ],
   "source": [
    "# value count the column of 'InternetService', no missing value\n",
    "df['InternetService'].value_counts(dropna=False)"
   ]
  },
  {
   "cell_type": "code",
   "execution_count": 171,
   "metadata": {},
   "outputs": [
    {
     "data": {
      "text/plain": [
       "No                     3498\n",
       "Yes                    2019\n",
       "No internet service    1526\n",
       "Name: OnlineSecurity, dtype: int64"
      ]
     },
     "execution_count": 171,
     "metadata": {},
     "output_type": "execute_result"
    }
   ],
   "source": [
    "# value count the column of 'OnlineSecurity', no missing value\n",
    "df['OnlineSecurity'].value_counts(dropna=False)"
   ]
  },
  {
   "cell_type": "code",
   "execution_count": 172,
   "metadata": {},
   "outputs": [
    {
     "data": {
      "text/plain": [
       "No                     3088\n",
       "Yes                    2429\n",
       "No internet service    1526\n",
       "Name: OnlineBackup, dtype: int64"
      ]
     },
     "execution_count": 172,
     "metadata": {},
     "output_type": "execute_result"
    }
   ],
   "source": [
    "# value count the column of 'OnlineBackup', no missing value\n",
    "df['OnlineBackup'].value_counts(dropna=False)"
   ]
  },
  {
   "cell_type": "code",
   "execution_count": 173,
   "metadata": {},
   "outputs": [
    {
     "data": {
      "text/plain": [
       "No                     3095\n",
       "Yes                    2422\n",
       "No internet service    1526\n",
       "Name: DeviceProtection, dtype: int64"
      ]
     },
     "execution_count": 173,
     "metadata": {},
     "output_type": "execute_result"
    }
   ],
   "source": [
    "# value count the column of 'DeviceProtection', no missing value\n",
    "df['DeviceProtection'].value_counts(dropna=False)"
   ]
  },
  {
   "cell_type": "code",
   "execution_count": 174,
   "metadata": {},
   "outputs": [
    {
     "data": {
      "text/plain": [
       "No                     3473\n",
       "Yes                    2044\n",
       "No internet service    1526\n",
       "Name: TechSupport, dtype: int64"
      ]
     },
     "execution_count": 174,
     "metadata": {},
     "output_type": "execute_result"
    }
   ],
   "source": [
    "# value count the column of 'TechSupport', no missing value\n",
    "df['TechSupport'].value_counts(dropna=False)"
   ]
  },
  {
   "cell_type": "code",
   "execution_count": 175,
   "metadata": {},
   "outputs": [
    {
     "data": {
      "text/plain": [
       "No                     2810\n",
       "Yes                    2707\n",
       "No internet service    1526\n",
       "Name: StreamingTV, dtype: int64"
      ]
     },
     "execution_count": 175,
     "metadata": {},
     "output_type": "execute_result"
    }
   ],
   "source": [
    "# value count the column of 'StreamingTV', no missing value\n",
    "df['StreamingTV'].value_counts(dropna=False)"
   ]
  },
  {
   "cell_type": "code",
   "execution_count": 176,
   "metadata": {},
   "outputs": [
    {
     "data": {
      "text/plain": [
       "No                     2785\n",
       "Yes                    2732\n",
       "No internet service    1526\n",
       "Name: StreamingMovies, dtype: int64"
      ]
     },
     "execution_count": 176,
     "metadata": {},
     "output_type": "execute_result"
    }
   ],
   "source": [
    "# value count the column of 'StreamingMovies', no missing value\n",
    "df['StreamingMovies'].value_counts(dropna=False)"
   ]
  },
  {
   "cell_type": "code",
   "execution_count": 177,
   "metadata": {},
   "outputs": [
    {
     "data": {
      "text/plain": [
       "Month-to-month    3875\n",
       "Two year          1695\n",
       "One year          1473\n",
       "Name: Contract, dtype: int64"
      ]
     },
     "execution_count": 177,
     "metadata": {},
     "output_type": "execute_result"
    }
   ],
   "source": [
    "# value count the column of 'Contract', no missing value\n",
    "df['Contract'].value_counts(dropna=False)"
   ]
  },
  {
   "cell_type": "code",
   "execution_count": 178,
   "metadata": {},
   "outputs": [
    {
     "data": {
      "text/plain": [
       "Yes    4171\n",
       "No     2872\n",
       "Name: PaperlessBilling, dtype: int64"
      ]
     },
     "execution_count": 178,
     "metadata": {},
     "output_type": "execute_result"
    }
   ],
   "source": [
    "# value count the column of 'PaperlessBilling', no missing value\n",
    "df['PaperlessBilling'].value_counts(dropna=False)"
   ]
  },
  {
   "cell_type": "code",
   "execution_count": 179,
   "metadata": {},
   "outputs": [
    {
     "data": {
      "text/plain": [
       "Electronic check             2365\n",
       "Mailed check                 1612\n",
       "Bank transfer (automatic)    1544\n",
       "Credit card (automatic)      1522\n",
       "Name: PaymentMethod, dtype: int64"
      ]
     },
     "execution_count": 179,
     "metadata": {},
     "output_type": "execute_result"
    }
   ],
   "source": [
    "# value count the column of 'PaymentMethod', no missing value\n",
    "df['PaymentMethod'].value_counts(dropna=False)"
   ]
  },
  {
   "cell_type": "code",
   "execution_count": 180,
   "metadata": {},
   "outputs": [
    {
     "data": {
      "text/plain": [
       "20.05     61\n",
       "19.85     45\n",
       "19.95     44\n",
       "19.90     44\n",
       "20.00     43\n",
       "19.70     43\n",
       "19.65     43\n",
       "19.55     40\n",
       "20.15     40\n",
       "19.75     39\n",
       "20.25     39\n",
       "20.35     38\n",
       "19.80     38\n",
       "19.60     37\n",
       "20.10     37\n",
       "20.20     35\n",
       "19.50     32\n",
       "19.40     31\n",
       "20.45     31\n",
       "20.40     30\n",
       "19.45     28\n",
       "20.50     28\n",
       "20.30     28\n",
       "20.55     27\n",
       "19.35     25\n",
       "19.30     24\n",
       "20.65     23\n",
       "25.25     20\n",
       "25.10     19\n",
       "19.25     18\n",
       "          ..\n",
       "67.50      1\n",
       "33.50      1\n",
       "48.15      1\n",
       "31.10      1\n",
       "39.95      1\n",
       "81.65      1\n",
       "117.45     1\n",
       "107.00     1\n",
       "66.35      1\n",
       "62.30      1\n",
       "112.60     1\n",
       "110.70     1\n",
       "28.60      1\n",
       "108.60     1\n",
       "73.10      1\n",
       "39.55      1\n",
       "53.70      1\n",
       "21.30      1\n",
       "18.40      1\n",
       "67.60      1\n",
       "33.75      1\n",
       "29.40      1\n",
       "57.80      1\n",
       "34.55      1\n",
       "107.65     1\n",
       "114.75     1\n",
       "103.60     1\n",
       "113.40     1\n",
       "57.65      1\n",
       "113.30     1\n",
       "Name: MonthlyCharges, Length: 1585, dtype: int64"
      ]
     },
     "execution_count": 180,
     "metadata": {},
     "output_type": "execute_result"
    }
   ],
   "source": [
    "# value count the column of 'PaymentMethod', no missing value\n",
    "df['MonthlyCharges'].value_counts(dropna=False)"
   ]
  },
  {
   "cell_type": "code",
   "execution_count": 210,
   "metadata": {},
   "outputs": [
    {
     "data": {
      "image/png": "[encoded data removed]",
      "text/plain": [
       "<Figure size 432x288 with 1 Axes>"
      ]
     },
     "metadata": {
      "needs_background": "light"
     },
     "output_type": "display_data"
    }
   ],
   "source": [
    "# check the statistics of and plot histogram for the column 'MonthlyCharges', no outlier\n",
    "df['MonthlyCharges'].describe()\n",
    "_=plt.hist(df['MonthlyCharges'])"
   ]
  },
  {
   "cell_type": "code",
   "execution_count": 182,
   "metadata": {},
   "outputs": [
    {
     "data": {
      "text/plain": [
       "20.2       11\n",
       "           11\n",
       "19.75       9\n",
       "19.65       8\n",
       "19.9        8\n",
       "20.05       8\n",
       "45.3        7\n",
       "19.55       7\n",
       "20.25       6\n",
       "19.45       6\n",
       "20.15       6\n",
       "20.45       5\n",
       "20.3        5\n",
       "74.7        4\n",
       "75.3        4\n",
       "70.6        4\n",
       "69.6        4\n",
       "19.5        4\n",
       "44.4        4\n",
       "69.9        4\n",
       "19.3        4\n",
       "50.15       4\n",
       "49.9        4\n",
       "20.5        4\n",
       "19.85       4\n",
       "44          4\n",
       "20.4        4\n",
       "19.95       4\n",
       "69.95       4\n",
       "19.4        4\n",
       "           ..\n",
       "7209        1\n",
       "4217.8      1\n",
       "1339.8      1\n",
       "3069.45     1\n",
       "3369.25     1\n",
       "86          1\n",
       "999.8       1\n",
       "657.5       1\n",
       "3653        1\n",
       "7279.35     1\n",
       "337.9       1\n",
       "6067.4      1\n",
       "90.75       1\n",
       "2215.25     1\n",
       "1288.75     1\n",
       "412.1       1\n",
       "3650.35     1\n",
       "953.65      1\n",
       "3994.05     1\n",
       "90.35       1\n",
       "1850.65     1\n",
       "1004.35     1\n",
       "2839.95     1\n",
       "493.65      1\n",
       "5373.1      1\n",
       "1238.65     1\n",
       "713.1       1\n",
       "6140.85     1\n",
       "77.75       1\n",
       "8126.65     1\n",
       "Name: TotalCharges, Length: 6531, dtype: int64"
      ]
     },
     "execution_count": 182,
     "metadata": {},
     "output_type": "execute_result"
    }
   ],
   "source": [
    "#value count the column of 'TotalCharges', there are 11 missing values and the data type has to be changed from 'string' to float\n",
    "df['TotalCharges'].value_counts(dropna=False)"
   ]
  },
  {
   "cell_type": "code",
   "execution_count": 183,
   "metadata": {},
   "outputs": [],
   "source": [
    "# change TotalCharges data type from string to float\n",
    "df['TotalCharges']=pd.to_numeric(df['TotalCharges'], errors='coerce')"
   ]
  },
  {
   "cell_type": "code",
   "execution_count": 184,
   "metadata": {},
   "outputs": [
    {
     "data": {
      "text/plain": [
       "NaN        11\n",
       "20.20      11\n",
       "19.75       9\n",
       "19.90       8\n",
       "19.65       8\n",
       "20.05       8\n",
       "19.55       7\n",
       "45.30       7\n",
       "19.45       6\n",
       "20.15       6\n",
       "20.25       6\n",
       "20.30       5\n",
       "20.45       5\n",
       "20.35       4\n",
       "50.15       4\n",
       "69.90       4\n",
       "69.95       4\n",
       "19.30       4\n",
       "19.95       4\n",
       "70.60       4\n",
       "74.70       4\n",
       "69.60       4\n",
       "44.00       4\n",
       "19.50       4\n",
       "44.40       4\n",
       "19.20       4\n",
       "69.65       4\n",
       "20.40       4\n",
       "49.90       4\n",
       "75.30       4\n",
       "           ..\n",
       "1971.15     1\n",
       "1793.25     1\n",
       "1212.85     1\n",
       "1504.05     1\n",
       "1319.95     1\n",
       "572.20      1\n",
       "5958.85     1\n",
       "1673.80     1\n",
       "958.15      1\n",
       "7610.10     1\n",
       "92.05       1\n",
       "2666.75     1\n",
       "1001.50     1\n",
       "7262.00     1\n",
       "4740.00     1\n",
       "96.45       1\n",
       "4483.95     1\n",
       "5574.75     1\n",
       "44.65       1\n",
       "2688.45     1\n",
       "1374.35     1\n",
       "3107.30     1\n",
       "248.95      1\n",
       "607.30      1\n",
       "1534.05     1\n",
       "1066.15     1\n",
       "249.95      1\n",
       "8333.95     1\n",
       "7171.70     1\n",
       "1024.00     1\n",
       "Name: TotalCharges, Length: 6531, dtype: int64"
      ]
     },
     "execution_count": 184,
     "metadata": {},
     "output_type": "execute_result"
    }
   ],
   "source": [
    "# confirm that the data type has been changed\n",
    "df['TotalCharges'].value_counts(dropna=False)"
   ]
  },
  {
   "cell_type": "code",
   "execution_count": 185,
   "metadata": {},
   "outputs": [],
   "source": [
    "# fill up missing values with the mediam of the column\n",
    "Totalcharge_median=df['TotalCharges'].median()\n",
    "df['TotalCharges']=df.TotalCharges.fillna(Totalcharge_median)"
   ]
  },
  {
   "cell_type": "code",
   "execution_count": 186,
   "metadata": {},
   "outputs": [
    {
     "data": {
      "text/plain": [
       "1397.475    11\n",
       "20.200      11\n",
       "19.750       9\n",
       "19.650       8\n",
       "20.050       8\n",
       "19.900       8\n",
       "19.550       7\n",
       "45.300       7\n",
       "19.450       6\n",
       "20.150       6\n",
       "20.250       6\n",
       "20.450       5\n",
       "20.300       5\n",
       "19.950       4\n",
       "19.850       4\n",
       "19.500       4\n",
       "20.400       4\n",
       "20.350       4\n",
       "20.500       4\n",
       "44.400       4\n",
       "69.650       4\n",
       "19.200       4\n",
       "69.950       4\n",
       "70.600       4\n",
       "69.900       4\n",
       "69.600       4\n",
       "44.000       4\n",
       "50.150       4\n",
       "49.900       4\n",
       "19.400       4\n",
       "            ..\n",
       "914.300      1\n",
       "7382.250     1\n",
       "1971.150     1\n",
       "1793.250     1\n",
       "1212.850     1\n",
       "1673.800     1\n",
       "2688.450     1\n",
       "7171.700     1\n",
       "4483.950     1\n",
       "4166.350     1\n",
       "1968.100     1\n",
       "7610.100     1\n",
       "92.050       1\n",
       "2666.750     1\n",
       "1001.500     1\n",
       "7262.000     1\n",
       "4740.000     1\n",
       "96.450       1\n",
       "5574.750     1\n",
       "8333.950     1\n",
       "958.150      1\n",
       "44.650       1\n",
       "1374.350     1\n",
       "3107.300     1\n",
       "248.950      1\n",
       "607.300      1\n",
       "1534.050     1\n",
       "1066.150     1\n",
       "249.950      1\n",
       "1024.000     1\n",
       "Name: TotalCharges, Length: 6531, dtype: int64"
      ]
     },
     "execution_count": 186,
     "metadata": {},
     "output_type": "execute_result"
    }
   ],
   "source": [
    "df['TotalCharges'].value_counts(dropna=False)"
   ]
  },
  {
   "cell_type": "code",
   "execution_count": 187,
   "metadata": {},
   "outputs": [
    {
     "data": {
      "image/png": "[encoded data removed]",
      "text/plain": [
       "<Figure size 432x288 with 1 Axes>"
      ]
     },
     "metadata": {
      "needs_background": "light"
     },
     "output_type": "display_data"
    }
   ],
   "source": [
    "# plot histogram for the column of TotalCharges, it's right skew and does not look like has outlier\n",
    "_=plt.hist(df['TotalCharges'])"
   ]
  },
  {
   "cell_type": "code",
   "execution_count": 188,
   "metadata": {},
   "outputs": [
    {
     "data": {
      "text/plain": [
       "No     5174\n",
       "Yes    1869\n",
       "Name: Churn, dtype: int64"
      ]
     },
     "execution_count": 188,
     "metadata": {},
     "output_type": "execute_result"
    }
   ],
   "source": [
    "# value count the column of 'Churn', no missing value\n",
    "df['Churn'].value_counts(dropna=False)"
   ]
  },
  {
   "cell_type": "code",
   "execution_count": 189,
   "metadata": {},
   "outputs": [],
   "source": [
    "#label the column of 'gender' as 0 (female) and 1 (male)\n",
    "from sklearn.preprocessing import LabelEncoder\n",
    "df['gender']=LabelEncoder().fit_transform(df['gender'])"
   ]
  },
  {
   "cell_type": "code",
   "execution_count": 190,
   "metadata": {},
   "outputs": [],
   "source": [
    "#label the column of 'Partner' as 1 (yes) and 0 (no)\n",
    "from sklearn.preprocessing import LabelEncoder\n",
    "df['Partner']=LabelEncoder().fit_transform(df['Partner'])"
   ]
  },
  {
   "cell_type": "code",
   "execution_count": 191,
   "metadata": {},
   "outputs": [],
   "source": [
    "#label the column of 'PaperlessBilling' as 1 (yes) and 0 (no)\n",
    "from sklearn.preprocessing import LabelEncoder\n",
    "df['PaperlessBilling']=LabelEncoder().fit_transform(df['PaperlessBilling'])"
   ]
  },
  {
   "cell_type": "code",
   "execution_count": 192,
   "metadata": {},
   "outputs": [],
   "source": [
    "#label the column of 'Dependents' as 1 (yes) and 0 (no)\n",
    "from sklearn.preprocessing import LabelEncoder\n",
    "df['Dependents']=LabelEncoder().fit_transform(df['Dependents'])"
   ]
  },
  {
   "cell_type": "code",
   "execution_count": 193,
   "metadata": {},
   "outputs": [],
   "source": [
    "#label the column of 'PhoneService' as 1 (yes) and 0 (no)\n",
    "from sklearn.preprocessing import LabelEncoder\n",
    "df['PhoneService']=LabelEncoder().fit_transform(df['PhoneService'])"
   ]
  },
  {
   "cell_type": "code",
   "execution_count": 194,
   "metadata": {},
   "outputs": [],
   "source": [
    "#label the column of 'Churn' as 1 (yes) and 0 (no)\n",
    "from sklearn.preprocessing import LabelEncoder\n",
    "df['Churn']=LabelEncoder().fit_transform(df['Churn'])"
   ]
  },
  {
   "cell_type": "code",
   "execution_count": 195,
   "metadata": {},
   "outputs": [],
   "source": [
    "# create dummy valuables for the column of gender, rename the columns and drop and first and original cplomns\n",
    "multiplelines_dummies = pd.get_dummies(df['MultipleLines'],drop_first=True).rename(columns=lambda x: 'MultipleLines_' + str(x))\n",
    "# bring the dummies back into the original dataset\n",
    "df = pd.concat([df, multiplelines_dummies], axis=1)\n",
    "# drop the orginal gender column\n",
    "df=df.drop(columns='MultipleLines')"
   ]
  },
  {
   "cell_type": "code",
   "execution_count": 196,
   "metadata": {},
   "outputs": [],
   "source": [
    "# create dummy valuables for the column of InternetService, rename the columns and drop the first and original column\n",
    "InternetService_dummies = pd.get_dummies(df['InternetService'],drop_first=True).rename(columns=lambda x: 'InternetService_' + str(x))\n",
    "df = pd.concat([df, InternetService_dummies], axis=1)\n",
    "df=df.drop(columns='InternetService')"
   ]
  },
  {
   "cell_type": "code",
   "execution_count": 197,
   "metadata": {},
   "outputs": [],
   "source": [
    "# create dummy valuables for the column of OnlineSecurity, rename the columns and drop the first and original column\n",
    "OnlineSecurity_dummies = pd.get_dummies(df['OnlineSecurity'],drop_first=True).rename(columns=lambda x: 'OnlineSecurity_' + str(x))\n",
    "df = pd.concat([df, OnlineSecurity_dummies], axis=1)\n",
    "df=df.drop(columns='OnlineSecurity')"
   ]
  },
  {
   "cell_type": "code",
   "execution_count": 198,
   "metadata": {},
   "outputs": [],
   "source": [
    "# create dummy valuables for the column of OnlineBackup, rename the columns and drop the first original column\n",
    "OnlineBackup_dummies = pd.get_dummies(df['OnlineBackup'],drop_first=True).rename(columns=lambda x: 'OnlineBackup_' + str(x))\n",
    "df = pd.concat([df, OnlineBackup_dummies], axis=1)\n",
    "df=df.drop(columns='OnlineBackup')"
   ]
  },
  {
   "cell_type": "code",
   "execution_count": 199,
   "metadata": {},
   "outputs": [],
   "source": [
    "# create dummy valuables for the column of DeviceProtection, rename the columns and drop the first and original column\n",
    "DeviceProtection_dummies = pd.get_dummies(df['DeviceProtection'],drop_first=True).rename(columns=lambda x: 'DeviceProtection_' + str(x))\n",
    "df = pd.concat([df, DeviceProtection_dummies], axis=1)\n",
    "df=df.drop(columns='DeviceProtection')"
   ]
  },
  {
   "cell_type": "code",
   "execution_count": 200,
   "metadata": {},
   "outputs": [],
   "source": [
    "# create dummy valuables for the column of TechSupport, rename the columns and drop the first and original column\n",
    "TechSupport_dummies = pd.get_dummies(df['TechSupport'],drop_first=True).rename(columns=lambda x: 'TechSupport_' + str(x))\n",
    "df = pd.concat([df, TechSupport_dummies], axis=1)\n",
    "df=df.drop(columns=['TechSupport'], axis=1)"
   ]
  },
  {
   "cell_type": "code",
   "execution_count": 201,
   "metadata": {},
   "outputs": [],
   "source": [
    "# create dummy valuables for the column of StreamingTV, rename the columns and drop the first and original column\n",
    "StreamingTV_dummies = pd.get_dummies(df['StreamingTV'],drop_first=True).rename(columns=lambda x: 'StreamingTV_' + str(x))\n",
    "df = pd.concat([df, StreamingTV_dummies], axis=1)\n",
    "df=df.drop(columns=['StreamingTV'], axis=1)"
   ]
  },
  {
   "cell_type": "code",
   "execution_count": 202,
   "metadata": {},
   "outputs": [],
   "source": [
    "# create dummy valuables for the column of StreamingMovies, rename the columns and drop the first original column\n",
    "StreamingMovies_dummies = pd.get_dummies(df['StreamingMovies'],drop_first=True).rename(columns=lambda x: 'StreamingMovies_' + str(x))\n",
    "df = pd.concat([df, StreamingMovies_dummies], axis=1)\n",
    "df=df.drop(columns=['StreamingMovies'], axis=1)"
   ]
  },
  {
   "cell_type": "code",
   "execution_count": 203,
   "metadata": {},
   "outputs": [],
   "source": [
    "# create dummy valuables for the column of Contract, rename the columns and drop the first and original column\n",
    "Contract_dummies = pd.get_dummies(df['Contract'],drop_first=True).rename(columns=lambda x: 'Contract_' + str(x))\n",
    "df = pd.concat([df, Contract_dummies], axis=1)\n",
    "df=df.drop(columns=['Contract'], axis=1)"
   ]
  },
  {
   "cell_type": "code",
   "execution_count": 204,
   "metadata": {},
   "outputs": [],
   "source": [
    "# create dummy valuables for the column of PaymentMethod, rename the columns and drop the first and original column\n",
    "PaymentMethod_dummies = pd.get_dummies(df['PaymentMethod'],drop_first=True).rename(columns=lambda x: 'PaymentMethod_' + str(x))\n",
    "df = pd.concat([df, PaymentMethod_dummies], axis=1)\n",
    "df=df.drop(columns=['PaymentMethod',], axis=1)"
   ]
  },
  {
   "cell_type": "code",
   "execution_count": 205,
   "metadata": {},
   "outputs": [
    {
     "name": "stdout",
     "output_type": "stream",
     "text": [
      "<class 'pandas.core.frame.DataFrame'>\n",
      "RangeIndex: 7043 entries, 0 to 7042\n",
      "Data columns (total 32 columns):\n",
      "customerID                               7043 non-null object\n",
      "gender                                   7043 non-null int32\n",
      "SeniorCitizen                            7043 non-null int64\n",
      "Partner                                  7043 non-null int32\n",
      "Dependents                               7043 non-null int32\n",
      "tenure                                   7043 non-null int64\n",
      "PhoneService                             7043 non-null int32\n",
      "PaperlessBilling                         7043 non-null int32\n",
      "MonthlyCharges                           7043 non-null float64\n",
      "TotalCharges                             7043 non-null float64\n",
      "Churn                                    7043 non-null int32\n",
      "MultipleLines_No phone service           7043 non-null uint8\n",
      "MultipleLines_Yes                        7043 non-null uint8\n",
      "InternetService_Fiber optic              7043 non-null uint8\n",
      "InternetService_No                       7043 non-null uint8\n",
      "OnlineSecurity_No internet service       7043 non-null uint8\n",
      "OnlineSecurity_Yes                       7043 non-null uint8\n",
      "OnlineBackup_No internet service         7043 non-null uint8\n",
      "OnlineBackup_Yes                         7043 non-null uint8\n",
      "DeviceProtection_No internet service     7043 non-null uint8\n",
      "DeviceProtection_Yes                     7043 non-null uint8\n",
      "TechSupport_No internet service          7043 non-null uint8\n",
      "TechSupport_Yes                          7043 non-null uint8\n",
      "StreamingTV_No internet service          7043 non-null uint8\n",
      "StreamingTV_Yes                          7043 non-null uint8\n",
      "StreamingMovies_No internet service      7043 non-null uint8\n",
      "StreamingMovies_Yes                      7043 non-null uint8\n",
      "Contract_One year                        7043 non-null uint8\n",
      "Contract_Two year                        7043 non-null uint8\n",
      "PaymentMethod_Credit card (automatic)    7043 non-null uint8\n",
      "PaymentMethod_Electronic check           7043 non-null uint8\n",
      "PaymentMethod_Mailed check               7043 non-null uint8\n",
      "dtypes: float64(2), int32(6), int64(2), object(1), uint8(21)\n",
      "memory usage: 584.7+ KB\n"
     ]
    }
   ],
   "source": [
    "df.info()"
   ]
  },
  {
   "cell_type": "code",
   "execution_count": 206,
   "metadata": {},
   "outputs": [],
   "source": [
    "import matplotlib.pyplot as plt\n",
    "import seaborn as sns\n",
    "import numpy as np\n",
    "from sklearn.metrics import confusion_matrix\n",
    "\n",
    "def get_dist_graph(data, column, bins = 1000):\n",
    "    fig, ax = plt.subplots(1, figsize=(15, 10))\n",
    "\n",
    "    # Filtering out non visual data\n",
    "    data_to_visualize = data[column][~data[column].isin([np.nan, np.inf, -np.inf])]\n",
    "\n",
    "    # Calculating stats\n",
    "    mean = data_to_visualize.mean()\n",
    "    std = data_to_visualize.std()\n",
    "    minimum = data_to_visualize.min()\n",
    "    maximum = data_to_visualize.max()\n",
    "\n",
    "    # Plotting\n",
    "    sns.distplot(data_to_visualize, bins = bins, label = 'Mean : ' + str(round(mean, 2)))\n",
    "\n",
    "    # Limits and mean line\n",
    "    plt.xlim(max(mean - (3*std), minimum), min(mean + (3*std), maximum))\n",
    "    plt.axvline(mean)\n",
    "    plt.legend()\n",
    "\n",
    "    #Title\n",
    "    plt.title('Distribution Graph of ' + column)\n",
    "\n",
    "    plt.show()\n",
    "\n",
    "def get_pair_plot(data, column_list = None, hue = None):\n",
    "    \n",
    "    # Filtering out non visual data\n",
    "    if column_list != None:\n",
    "        data_to_visualize = data[column_list][~data[column_list].isin([np.nan, np.inf, -np.inf]).any(1)]\n",
    "        \n",
    "    else:\n",
    "        data_to_visualize = data[~data.isin([np.nan, np.inf, -np.inf]).any(1)]\n",
    "\n",
    "    if hue == None:\n",
    "        sns.pairplot(data_to_visualize)\n",
    "    else:\n",
    "        sns.pairplot(data_to_visualize, hue = hue)\n",
    "\n",
    "    plt.show()\n",
    "\n",
    "def get_corr_heat_map(data):\n",
    "    \n",
    "    data_to_visualize = data[~data.isin([np.nan, np.inf, -np.inf]).any(1)]\n",
    "    # Create Correlation df\n",
    "    corr = data_to_visualize.corr()\n",
    "    # Plot figsize\n",
    "    fig, ax = plt.subplots(figsize=(15, 10))\n",
    "    # Generate Color Map\n",
    "    colormap = sns.diverging_palette(220, 10, as_cmap=True)\n",
    "    # Generate Heat Map, allow annotations and place floats in map\n",
    "    sns.heatmap(corr, cmap=colormap, annot=True, fmt=\".2f\")\n",
    "    # Apply xticks\n",
    "    plt.xticks(range(len(corr.columns)), corr.columns);\n",
    "    # Apply yticks\n",
    "    plt.yticks(range(len(corr.columns)), corr.columns)\n",
    "    # show plot\n",
    "    plt.show()\n",
    "\n",
    "def get_class_balance(data):\n",
    "    fig, ax = plt.subplots(figsize=(15, 10))\n",
    "    plt.hist(data['was_rated'], rwidth = 2)\n",
    "    plt.title('Class Counts')\n",
    "    plt.show()\n",
    "\n",
    "def get_line_plot(data, x, y):\n",
    "    fig, ax = plt.subplots(figsize=(15, 10))\n",
    "    sns.lineplot(data = data, x = x, y = y)\n",
    "    plt.title(str(y) + ' Evolution')\n",
    "    plt.show()\n",
    "\n",
    "def get_box_plot_per_label(data, column_x, column_y):\n",
    "    fig, ax = plt.subplots(figsize=(15, 10))\n",
    "\n",
    "    # Filtering out non visual data\n",
    "    data_to_visualize = data[~data.isin([np.nan, np.inf, -np.inf]).any(1)]\n",
    "\n",
    "    mean = data_to_visualize[column_y].mean()\n",
    "    std = data_to_visualize[column_y].std()\n",
    "\n",
    "    sns.boxplot(x = column_x, y = column_y, hue='was_rated', data=data_to_visualize)\n",
    "    plt.ylim(mean - (2*std), mean + (7*std))\n",
    "\n",
    "    plt.title(column_x + ' and ' + column_y + ' Box Plot')\n",
    "\n",
    "    plt.show()\n",
    "\n",
    "def draw_confusion_matrix(actuals, predicted, actual_labels, predicted_labels):\n",
    "    fig, ax = plt.subplots(figsize=(15, 10))\n",
    "\n",
    "    sns.heatmap(confusion_matrix(actuals, predicted), annot=True,\n",
    "                ax=ax);  # annot=True to annotate cells\n",
    "\n",
    "    # labels, title and ticks\n",
    "    ax.set_xlabel('Predicted labels');\n",
    "    ax.set_ylabel('True labels');\n",
    "    ax.set_title('Confusion Matrix');\n",
    "    ax.xaxis.set_ticklabels(actual_labels);\n",
    "    ax.yaxis.set_ticklabels(predicted_labels)\n",
    "    plt.show()\n"
   ]
  }
 ],
 "metadata": {
  "kernelspec": {
   "display_name": "Python 3",
   "language": "python",
   "name": "python3"
  },
  "language_info": {
   "codemirror_mode": {
    "name": "ipython",
    "version": 3
   },
   "file_extension": ".py",
   "mimetype": "text/x-python",
   "name": "python",
   "nbconvert_exporter": "python",
   "pygments_lexer": "ipython3",
   "version": "3.7.3"
  }
 },
 "nbformat": 4,
 "nbformat_minor": 2
}
