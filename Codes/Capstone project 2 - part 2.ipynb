{
 "cells": [
  {
   "cell_type": "markdown",
   "metadata": {},
   "source": [
    "# Capstone Project 2 - Part 2"
   ]
  },
  {
   "cell_type": "code",
   "execution_count": 34,
   "metadata": {},
   "outputs": [],
   "source": [
    "import pandas as pd\n",
    "import numpy as np\n",
    "import matplotlib.pyplot as plt\n",
    "import seaborn as sns\n",
    "import statsmodels.api as sm\n",
    "from pylab import rcParams\n",
    "from statsmodels.tsa.stattools import adfuller\n",
    "from statsmodels.tsa.statespace.sarimax import SARIMAX\n",
    "import pickle\n",
    "# fix the warning problem in jupyter notebook\n",
    "import warnings\n",
    "warnings.filterwarnings('ignore')"
   ]
  },
  {
   "cell_type": "code",
   "execution_count": 2,
   "metadata": {},
   "outputs": [],
   "source": [
    "# read pickle file into python\n",
    "infile = open('C:\\A\\Education\\Data Science\\Capstone project 2\\dataframe','rb')\n",
    "df= pickle.load(infile)\n",
    "infile.close()"
   ]
  },
  {
   "cell_type": "code",
   "execution_count": 3,
   "metadata": {
    "scrolled": true
   },
   "outputs": [
    {
     "data": {
      "text/html": [
       "<div>\n",
       "<style scoped>\n",
       "    .dataframe tbody tr th:only-of-type {\n",
       "        vertical-align: middle;\n",
       "    }\n",
       "\n",
       "    .dataframe tbody tr th {\n",
       "        vertical-align: top;\n",
       "    }\n",
       "\n",
       "    .dataframe thead th {\n",
       "        text-align: right;\n",
       "    }\n",
       "</style>\n",
       "<table border=\"1\" class=\"dataframe\">\n",
       "  <thead>\n",
       "    <tr style=\"text-align: right;\">\n",
       "      <th></th>\n",
       "      <th>order_count</th>\n",
       "    </tr>\n",
       "    <tr>\n",
       "      <th>order_purchase_timestamp_day</th>\n",
       "      <th></th>\n",
       "    </tr>\n",
       "  </thead>\n",
       "  <tbody>\n",
       "    <tr>\n",
       "      <th>2017-03-31</th>\n",
       "      <td>70</td>\n",
       "    </tr>\n",
       "    <tr>\n",
       "      <th>2017-04-01</th>\n",
       "      <td>68</td>\n",
       "    </tr>\n",
       "    <tr>\n",
       "      <th>2017-04-02</th>\n",
       "      <td>65</td>\n",
       "    </tr>\n",
       "    <tr>\n",
       "      <th>2017-04-03</th>\n",
       "      <td>72</td>\n",
       "    </tr>\n",
       "    <tr>\n",
       "      <th>2017-04-04</th>\n",
       "      <td>96</td>\n",
       "    </tr>\n",
       "  </tbody>\n",
       "</table>\n",
       "</div>"
      ],
      "text/plain": [
       "                              order_count\n",
       "order_purchase_timestamp_day             \n",
       "2017-03-31                             70\n",
       "2017-04-01                             68\n",
       "2017-04-02                             65\n",
       "2017-04-03                             72\n",
       "2017-04-04                             96"
      ]
     },
     "execution_count": 3,
     "metadata": {},
     "output_type": "execute_result"
    }
   ],
   "source": [
    "df.head()"
   ]
  },
  {
   "cell_type": "code",
   "execution_count": 27,
   "metadata": {},
   "outputs": [],
   "source": [
    "# define tune_model function for tuning the hypeparameter Q, train the SARIMAX model with \n",
    "# first 80% of the data and perform one step ahead forecast for the rest of 20%. For example: \n",
    "# first df_train is 0~397(n=0), second dr_train is 0~398(n=1),etc.\n",
    "# For the SARIMAX model, P=7 according to above analysis, D=2 (2 degree function based on \n",
    "# excel search, S=7.\n",
    "# use Symmetric Mean Absolute Percentage Error (SMAPE) to measure the performance of the model\n",
    "def tune_model(q,n):\n",
    "    # create empty list for error\n",
    "    error_list=[]\n",
    "    #iterate n times to get n predicted values\n",
    "    for i in range(n):\n",
    "        # split training dataset\n",
    "        df_train=df.iloc[:398+i]\n",
    "        # instantiate SARIMAX model, P=7, D=2, S=7 \n",
    "        model=SARIMAX(df_train,seasonal_order=(7,2,q,7),enforce_stationarity=False,enforce_invertibility=False)\n",
    "        # train the model\n",
    "        model_fit=model.fit()\n",
    "        # get one step ahead forecast\n",
    "        model_fore=model_fit.forecast()\n",
    "        #convert model_fit (series object) to array \n",
    "        fore=model_fore.array\n",
    "        # get the predicted value from array\n",
    "        fore_val=fore[0]\n",
    "        # get the actual value\n",
    "        actual_val=df.order_count.iloc[398+i]\n",
    "        # calculate |Ft−At|/(Ft+At) \n",
    "        error=abs(fore_val-actual_val)/(fore_val+actual_val)\n",
    "        error_list.append(error)\n",
    "    # calculate smape\n",
    "    smape=sum(error_list)/n\n",
    "    return smape"
   ]
  },
  {
   "cell_type": "code",
   "execution_count": 30,
   "metadata": {
    "scrolled": false
   },
   "outputs": [],
   "source": [
    "# research for Q \n",
    "Q_list=[]\n",
    "smape_list=[]\n",
    "for k in range(8):\n",
    "    result=tune_model(k,100)\n",
    "    Q_list.append(k)\n",
    "    smape_list.append(result)"
   ]
  },
  {
   "cell_type": "code",
   "execution_count": 32,
   "metadata": {},
   "outputs": [],
   "source": [
    "df_tune = pd.DataFrame()\n",
    "df_tune['Q']=Q_list\n",
    "df_tune['smape']=smape_list"
   ]
  },
  {
   "cell_type": "code",
   "execution_count": 33,
   "metadata": {},
   "outputs": [
    {
     "name": "stdout",
     "output_type": "stream",
     "text": [
      "   Q     smape\n",
      "0  0  0.078231\n",
      "1  1  0.067803\n",
      "2  2  0.067559\n",
      "3  3  0.072270\n",
      "4  4  0.066720\n",
      "5  5  0.069321\n",
      "6  6  0.071007\n",
      "7  7  0.068680\n"
     ]
    }
   ],
   "source": [
    "# as the results showed below, when Q=4, smape has the lowest score 0.0667\n",
    "print(df_tune)"
   ]
  },
  {
   "cell_type": "code",
   "execution_count": 35,
   "metadata": {},
   "outputs": [],
   "source": [
    "# define tune_model function for tuning the hypeparameter Q, train the SARIMAX model with \n",
    "# first 80% of the data and perform one step ahead forecast for the rest of 20%. For example: \n",
    "# first df_train is 0~397(n=0), second dr_train is 0~398(n=1),etc.\n",
    "# For the SARIMAX model, P=7 according to above analysis, D=1 (1 degree function based on \n",
    "# excel search, S=7.\n",
    "# use Symmetric Mean Absolute Percentage Error (SMAPE) to measure the performance of the model\n",
    "def tune_model_1(q,n):\n",
    "    # create empty list for error\n",
    "    error_list=[]\n",
    "    #iterate n times to get n predicted values\n",
    "    for i in range(n):\n",
    "        # split training dataset\n",
    "        df_train=df.iloc[:398+i]\n",
    "        # instantiate SARIMAX model, P=7, D=1, Q=1, S=7 \n",
    "        model=SARIMAX(df_train,seasonal_order=(7,1,q,7),enforce_stationarity=False,enforce_invertibility=False)\n",
    "        # train the model\n",
    "        model_fit=model.fit()\n",
    "        # get one step ahead forecast\n",
    "        model_fore=model_fit.forecast()\n",
    "        #convert model_fit (series object) to array \n",
    "        fore=model_fore.array\n",
    "        # get the predicted value from array\n",
    "        fore_val=fore[0]\n",
    "        # get the actual value\n",
    "        actual_val=df.order_count.iloc[398+i]\n",
    "        # calculate |Ft−At|/(Ft+At) \n",
    "        error=abs(fore_val-actual_val)/(fore_val+actual_val)\n",
    "        error_list.append(error)\n",
    "    # calculate smape\n",
    "    smape=sum(error_list)/n\n",
    "    return smape"
   ]
  },
  {
   "cell_type": "code",
   "execution_count": null,
   "metadata": {},
   "outputs": [],
   "source": [
    "Q_list=[]\n",
    "smape_list=[]\n",
    "for k in range(8):\n",
    "    result=tune_model_1(k,100)\n",
    "    Q_list.append(k)\n",
    "    smape_list.append(result)"
   ]
  },
  {
   "cell_type": "code",
   "execution_count": 16,
   "metadata": {},
   "outputs": [],
   "source": [
    "df_tune = pd.DataFrame()\n",
    "df_tune['Q']=Q_list\n",
    "df_tune['smape']=smape_list"
   ]
  },
  {
   "cell_type": "code",
   "execution_count": 17,
   "metadata": {},
   "outputs": [
    {
     "name": "stdout",
     "output_type": "stream",
     "text": [
      "   Q     smape\n",
      "0  0  0.066236\n",
      "1  1  0.066236\n",
      "2  2  0.066236\n",
      "3  3  0.066236\n",
      "4  4  0.066236\n",
      "5  5  0.066236\n",
      "6  6  0.066236\n",
      "7  7  0.066236\n"
     ]
    }
   ],
   "source": [
    "print(df_tune)"
   ]
  }
 ],
 "metadata": {
  "kernelspec": {
   "display_name": "Python 3",
   "language": "python",
   "name": "python3"
  },
  "language_info": {
   "codemirror_mode": {
    "name": "ipython",
    "version": 3
   },
   "file_extension": ".py",
   "mimetype": "text/x-python",
   "name": "python",
   "nbconvert_exporter": "python",
   "pygments_lexer": "ipython3",
   "version": "3.7.3"
  }
 },
 "nbformat": 4,
 "nbformat_minor": 2
}
